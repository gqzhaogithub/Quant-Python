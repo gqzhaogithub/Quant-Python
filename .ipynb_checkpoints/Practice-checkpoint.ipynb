{
 "cells": [
  {
   "cell_type": "code",
   "execution_count": 71,
   "metadata": {},
   "outputs": [
    {
     "name": "stdout",
     "output_type": "stream",
     "text": [
      "please enter your nameGeorge\n",
      "hello, George\n"
     ]
    }
   ],
   "source": [
    "name=input('please enter your name')\n",
    "print('hello,', name)"
   ]
  },
  {
   "cell_type": "code",
   "execution_count": 23,
   "metadata": {},
   "outputs": [
    {
     "data": {
      "text/plain": [
       "0.18055555555555555"
      ]
     },
     "execution_count": 23,
     "metadata": {},
     "output_type": "execute_result"
    }
   ],
   "source": [
    "(85-72)/72"
   ]
  },
  {
   "cell_type": "code",
   "execution_count": 26,
   "metadata": {},
   "outputs": [
    {
     "name": "stdout",
     "output_type": "stream",
     "text": [
      "成绩提升 18.1 %\n"
     ]
    }
   ],
   "source": [
    "s1=72\n",
    "s2=85\n",
    "r=100*(s2-s1)/s1\n",
    "print('成绩提升 %.1f %%' % r)"
   ]
  },
  {
   "cell_type": "code",
   "execution_count": 43,
   "metadata": {},
   "outputs": [
    {
     "data": {
      "text/plain": [
       "1"
      ]
     },
     "execution_count": 43,
     "metadata": {},
     "output_type": "execute_result"
    }
   ],
   "source": [
    "classmate=['a','b','c']\n",
    "classmate.append('d')\n",
    "classmate.pop()\n",
    "classmate.insert(1,'h')\n",
    "classmate.pop(1)\n",
    "classmate\n",
    "t=(1,2,3)\n",
    "t[0]"
   ]
  },
  {
   "cell_type": "code",
   "execution_count": 46,
   "metadata": {},
   "outputs": [
    {
     "name": "stdout",
     "output_type": "stream",
     "text": [
      "Apple\n",
      "Python\n",
      "Lisa\n"
     ]
    }
   ],
   "source": [
    "L = [\n",
    "    ['Apple', 'Google', 'Microsoft'],\n",
    "    ['Java', 'Python', 'Ruby', 'PHP'],\n",
    "    ['Adam', 'Bart', 'Lisa']\n",
    "]\n",
    "\n",
    "print(L[0][0])\n",
    "print(L[1][1])\n",
    "print(L[2][2])"
   ]
  },
  {
   "cell_type": "code",
   "execution_count": 48,
   "metadata": {},
   "outputs": [
    {
     "name": "stdout",
     "output_type": "stream",
     "text": [
      "过重\n"
     ]
    }
   ],
   "source": [
    "height=1.75\n",
    "weight=80.5\n",
    "bmi=weight/height**2\n",
    "\n",
    "if bmi<18.5:\n",
    "    print(\"过轻\")\n",
    "elif bmi<25:\n",
    "    print(\"正常\")\n",
    "elif bmi<28:\n",
    "    print(\"过重\")\n",
    "elif bmi<32:\n",
    "    print(\"肥胖\")\n",
    "else:\n",
    "    print(\"严重肥胖\")"
   ]
  },
  {
   "cell_type": "code",
   "execution_count": 68,
   "metadata": {},
   "outputs": [
    {
     "name": "stdout",
     "output_type": "stream",
     "text": [
      "Hello Bart!\n",
      "Hello Lisa!\n",
      "Hello Adam!\n"
     ]
    }
   ],
   "source": [
    "L=[\"Bart\",\"Lisa\",\"Adam\"]\n",
    "for name in L:\n",
    "    print('Hello '+name+'!')"
   ]
  },
  {
   "cell_type": "code",
   "execution_count": 73,
   "metadata": {},
   "outputs": [
    {
     "name": "stdout",
     "output_type": "stream",
     "text": [
      "1\n",
      "2\n",
      "3\n",
      "4\n",
      "5\n",
      "6\n",
      "7\n",
      "8\n",
      "9\n",
      "10\n",
      "END\n"
     ]
    }
   ],
   "source": [
    "n=1\n",
    "while n<=100:\n",
    "    if n>10:\n",
    "        break\n",
    "    print(n)\n",
    "    n +=1\n",
    "print(\"END\")"
   ]
  },
  {
   "cell_type": "code",
   "execution_count": 83,
   "metadata": {},
   "outputs": [
    {
     "name": "stdout",
     "output_type": "stream",
     "text": [
      "1\n",
      "3\n",
      "5\n",
      "7\n",
      "9\n",
      "END\n"
     ]
    }
   ],
   "source": [
    "n=1\n",
    "while n <10:\n",
    "    if n%2==1:\n",
    "        print(n)\n",
    "    n +=1\n",
    "print(\"END\")"
   ]
  },
  {
   "cell_type": "code",
   "execution_count": null,
   "metadata": {
    "collapsed": true
   },
   "outputs": [],
   "source": [
    "d = {'Michael': 95, 'Bob': 75, 'Tracy':85}\n",
    "d['Bob']\n"
   ]
  },
  {
   "cell_type": "code",
   "execution_count": 1,
   "metadata": {},
   "outputs": [
    {
     "data": {
      "text/plain": [
       "125"
      ]
     },
     "execution_count": 1,
     "metadata": {},
     "output_type": "execute_result"
    }
   ],
   "source": [
    "def power(x,n=2):\n",
    "    return x**n\n",
    "\n",
    "power(5,3)"
   ]
  },
  {
   "cell_type": "code",
   "execution_count": 4,
   "metadata": {},
   "outputs": [
    {
     "data": {
      "text/plain": [
       "5040"
      ]
     },
     "execution_count": 4,
     "metadata": {},
     "output_type": "execute_result"
    }
   ],
   "source": [
    "def factor(n):\n",
    "    if n==1:\n",
    "        return 1\n",
    "    else:\n",
    "        return n*factor(n-1)\n",
    "    \n",
    "factor(7)"
   ]
  },
  {
   "cell_type": "code",
   "execution_count": 10,
   "metadata": {},
   "outputs": [
    {
     "name": "stdout",
     "output_type": "stream",
     "text": [
      "please enter the number of hanoi:3\n",
      "A --> C\n",
      "A --> B\n",
      "C --> B\n",
      "A --> C\n",
      "B --> A\n",
      "B --> C\n",
      "A --> C\n"
     ]
    }
   ],
   "source": [
    "def hanoi(n,a,b,c):\n",
    "    if n==1:\n",
    "        print(a,'-->',c)\n",
    "        return\n",
    "    else:\n",
    "        hanoi(n-1,a,c,b)\n",
    "        hanoi(1,a,b,c)\n",
    "        hanoi(n-1,b,a,c)\n",
    "    return\n",
    "n=int(input('please enter the number of hanoi:'))\n",
    "hanoi(n,'A','B','C')"
   ]
  },
  {
   "cell_type": "code",
   "execution_count": 54,
   "metadata": {},
   "outputs": [
    {
     "name": "stdout",
     "output_type": "stream",
     "text": [
      "[5, 6, 7, 8, 9]\n",
      "[9, 8, 7, 6]\n"
     ]
    }
   ],
   "source": [
    "a=list(range(10))\n",
    "b=tuple(range(10))\n",
    "print(a[5:10])\n",
    "print(a[10:5:-1])\n",
    "\n"
   ]
  },
  {
   "cell_type": "code",
   "execution_count": 79,
   "metadata": {},
   "outputs": [
    {
     "name": "stdout",
     "output_type": "stream",
     "text": [
      "a 1\n",
      "b 2\n",
      "c 3\n",
      "['g', 'e', 'o', 'r', 'g', 'e']\n",
      "g\n",
      "e\n",
      "o\n",
      "r\n",
      "g\n",
      "e\n"
     ]
    }
   ],
   "source": [
    "d = {'a': 1, 'b': 2, 'c': 3}\n",
    "for a in d:\n",
    "    print(a,d[a])\n",
    "\n",
    "l='george'\n",
    "print([i for i in l])\n",
    "for i in l:\n",
    "    print(i)\n"
   ]
  },
  {
   "cell_type": "code",
   "execution_count": 87,
   "metadata": {},
   "outputs": [
    {
     "data": {
      "text/plain": [
       "['hello', 'world', 'apple']"
      ]
     },
     "execution_count": 87,
     "metadata": {},
     "output_type": "execute_result"
    }
   ],
   "source": [
    "L1 = ['Hello', 'World', 18, 'Apple', None]\n",
    "L2=[a.lower() for a in L1 if isinstance(a,str)]\n",
    "L2"
   ]
  },
  {
   "cell_type": "code",
   "execution_count": 1,
   "metadata": {},
   "outputs": [
    {
     "name": "stdout",
     "output_type": "stream",
     "text": [
      "[1]\n",
      "[1, 1]\n",
      "[1, 2, 1]\n",
      "[1, 3, 3, 1]\n",
      "[1, 4, 6, 4, 1]\n",
      "[1, 5, 10, 10, 5, 1]\n",
      "[1, 6, 15, 20, 15, 6, 1]\n",
      "[1, 7, 21, 35, 35, 21, 7, 1]\n",
      "[1, 8, 28, 56, 70, 56, 28, 8, 1]\n",
      "[1, 9, 36, 84, 126, 126, 84, 36, 9, 1]\n"
     ]
    }
   ],
   "source": [
    "def triangle(max):\n",
    "    l=[1]\n",
    "    n=0\n",
    "    while n<max:\n",
    "        yield l\n",
    "        for i in range(0,len(l)-1):\n",
    "            l[i]=l[i]+l[i+1]\n",
    "        l.insert(0,1)\n",
    "        n +=1\n",
    "        \n",
    "for t in triangle(10):\n",
    "    print(t)\n",
    "        "
   ]
  },
  {
   "cell_type": "code",
   "execution_count": 23,
   "metadata": {},
   "outputs": [
    {
     "name": "stdout",
     "output_type": "stream",
     "text": [
      "0123456789\n"
     ]
    }
   ],
   "source": [
    "a=[str(i) for i in range(10)]\n",
    "print(''.join(a))"
   ]
  },
  {
   "cell_type": "code",
   "execution_count": 60,
   "metadata": {},
   "outputs": [
    {
     "name": "stdout",
     "output_type": "stream",
     "text": [
      "1\n",
      "1\n",
      "2\n",
      "[[0, 0], [0, 1], [1, 0]]\n"
     ]
    }
   ],
   "source": [
    "x = int ( input())\n",
    "y = int ( input())\n",
    "n = int ( input())\n",
    "print ( [[ i, j] for i in range( x + 1) for j in range( y + 1) if  ( i + j ) != n ])"
   ]
  },
  {
   "cell_type": "code",
   "execution_count": 17,
   "metadata": {},
   "outputs": [
    {
     "name": "stdout",
     "output_type": "stream",
     "text": [
      "[1, 0, 0]\n",
      "[0, 0, 0]\n",
      "[0, 1, 0]\n",
      "[0, 1, 1]\n",
      "[1, 1, 1]\n"
     ]
    },
    {
     "data": {
      "text/plain": [
       "5"
      ]
     },
     "execution_count": 17,
     "metadata": {},
     "output_type": "execute_result"
    }
   ],
   "source": [
    "from random import randint\n",
    "\n",
    "def number_of_moves(dimension):\n",
    "    # return the number of moves needed for \n",
    "    # one simulated trip by the ant.\n",
    "    vertex = [0]* dimension\n",
    "    move_count=0\n",
    "    while sum(vertex)<dimension:\n",
    "        axis_choice=randint(0,dimension-1)\n",
    "        vertex[axis_choice]=1-vertex[axis_choice]\n",
    "        move_count +=1\n",
    "        print(vertex)\n",
    "    return move_count\n",
    "    \n",
    "number_of_moves(3)"
   ]
  },
  {
   "cell_type": "code",
   "execution_count": 1,
   "metadata": {},
   "outputs": [
    {
     "name": "stdout",
     "output_type": "stream",
     "text": [
      "59.67\n"
     ]
    }
   ],
   "source": [
    "a=[46,85,48]\n",
    "b=sum(a)\n",
    "c=b/3\n",
    "print('%.2f' % (sum(a)/3))"
   ]
  },
  {
   "cell_type": "code",
   "execution_count": 6,
   "metadata": {},
   "outputs": [
    {
     "name": "stdout",
     "output_type": "stream",
     "text": [
      "tiandlkgLAEHG\n"
     ]
    },
    {
     "ename": "KeyboardInterrupt",
     "evalue": "",
     "output_type": "error",
     "traceback": [
      "\u001b[1;31m---------------------------------------------------------------------------\u001b[0m",
      "\u001b[1;31mKeyboardInterrupt\u001b[0m                         Traceback (most recent call last)",
      "\u001b[1;32mD:\\Python\\Spyder\\lib\\site-packages\\ipykernel\\kernelbase.py\u001b[0m in \u001b[0;36m_input_request\u001b[1;34m(self, prompt, ident, parent, password)\u001b[0m\n\u001b[0;32m    729\u001b[0m             \u001b[1;32mtry\u001b[0m\u001b[1;33m:\u001b[0m\u001b[1;33m\u001b[0m\u001b[0m\n\u001b[1;32m--> 730\u001b[1;33m                 \u001b[0mident\u001b[0m\u001b[1;33m,\u001b[0m \u001b[0mreply\u001b[0m \u001b[1;33m=\u001b[0m \u001b[0mself\u001b[0m\u001b[1;33m.\u001b[0m\u001b[0msession\u001b[0m\u001b[1;33m.\u001b[0m\u001b[0mrecv\u001b[0m\u001b[1;33m(\u001b[0m\u001b[0mself\u001b[0m\u001b[1;33m.\u001b[0m\u001b[0mstdin_socket\u001b[0m\u001b[1;33m,\u001b[0m \u001b[1;36m0\u001b[0m\u001b[1;33m)\u001b[0m\u001b[1;33m\u001b[0m\u001b[0m\n\u001b[0m\u001b[0;32m    731\u001b[0m             \u001b[1;32mexcept\u001b[0m \u001b[0mException\u001b[0m\u001b[1;33m:\u001b[0m\u001b[1;33m\u001b[0m\u001b[0m\n",
      "\u001b[1;32mD:\\Python\\Spyder\\lib\\site-packages\\jupyter_client\\session.py\u001b[0m in \u001b[0;36mrecv\u001b[1;34m(self, socket, mode, content, copy)\u001b[0m\n\u001b[0;32m    777\u001b[0m         \u001b[1;32mtry\u001b[0m\u001b[1;33m:\u001b[0m\u001b[1;33m\u001b[0m\u001b[0m\n\u001b[1;32m--> 778\u001b[1;33m             \u001b[0mmsg_list\u001b[0m \u001b[1;33m=\u001b[0m \u001b[0msocket\u001b[0m\u001b[1;33m.\u001b[0m\u001b[0mrecv_multipart\u001b[0m\u001b[1;33m(\u001b[0m\u001b[0mmode\u001b[0m\u001b[1;33m,\u001b[0m \u001b[0mcopy\u001b[0m\u001b[1;33m=\u001b[0m\u001b[0mcopy\u001b[0m\u001b[1;33m)\u001b[0m\u001b[1;33m\u001b[0m\u001b[0m\n\u001b[0m\u001b[0;32m    779\u001b[0m         \u001b[1;32mexcept\u001b[0m \u001b[0mzmq\u001b[0m\u001b[1;33m.\u001b[0m\u001b[0mZMQError\u001b[0m \u001b[1;32mas\u001b[0m \u001b[0me\u001b[0m\u001b[1;33m:\u001b[0m\u001b[1;33m\u001b[0m\u001b[0m\n",
      "\u001b[1;32mD:\\Python\\Spyder\\lib\\site-packages\\zmq\\sugar\\socket.py\u001b[0m in \u001b[0;36mrecv_multipart\u001b[1;34m(self, flags, copy, track)\u001b[0m\n\u001b[0;32m    394\u001b[0m         \"\"\"\n\u001b[1;32m--> 395\u001b[1;33m         \u001b[0mparts\u001b[0m \u001b[1;33m=\u001b[0m \u001b[1;33m[\u001b[0m\u001b[0mself\u001b[0m\u001b[1;33m.\u001b[0m\u001b[0mrecv\u001b[0m\u001b[1;33m(\u001b[0m\u001b[0mflags\u001b[0m\u001b[1;33m,\u001b[0m \u001b[0mcopy\u001b[0m\u001b[1;33m=\u001b[0m\u001b[0mcopy\u001b[0m\u001b[1;33m,\u001b[0m \u001b[0mtrack\u001b[0m\u001b[1;33m=\u001b[0m\u001b[0mtrack\u001b[0m\u001b[1;33m)\u001b[0m\u001b[1;33m]\u001b[0m\u001b[1;33m\u001b[0m\u001b[0m\n\u001b[0m\u001b[0;32m    396\u001b[0m         \u001b[1;31m# have first part already, only loop while more to receive\u001b[0m\u001b[1;33m\u001b[0m\u001b[1;33m\u001b[0m\u001b[0m\n",
      "\u001b[1;32mzmq/backend/cython/socket.pyx\u001b[0m in \u001b[0;36mzmq.backend.cython.socket.Socket.recv (zmq\\backend\\cython\\socket.c:7683)\u001b[1;34m()\u001b[0m\n",
      "\u001b[1;32mzmq/backend/cython/socket.pyx\u001b[0m in \u001b[0;36mzmq.backend.cython.socket.Socket.recv (zmq\\backend\\cython\\socket.c:7460)\u001b[1;34m()\u001b[0m\n",
      "\u001b[1;32mzmq/backend/cython/socket.pyx\u001b[0m in \u001b[0;36mzmq.backend.cython.socket._recv_copy (zmq\\backend\\cython\\socket.c:2344)\u001b[1;34m()\u001b[0m\n",
      "\u001b[1;32mD:\\Python\\Spyder\\lib\\site-packages\\zmq\\backend\\cython\\checkrc.pxd\u001b[0m in \u001b[0;36mzmq.backend.cython.checkrc._check_rc (zmq\\backend\\cython\\socket.c:9621)\u001b[1;34m()\u001b[0m\n",
      "\u001b[1;31mKeyboardInterrupt\u001b[0m: ",
      "\nDuring handling of the above exception, another exception occurred:\n",
      "\u001b[1;31mKeyboardInterrupt\u001b[0m                         Traceback (most recent call last)",
      "\u001b[1;32m<ipython-input-6-54511974fcc2>\u001b[0m in \u001b[0;36m<module>\u001b[1;34m()\u001b[0m\n\u001b[0;32m      4\u001b[0m \u001b[1;33m\u001b[0m\u001b[0m\n\u001b[0;32m      5\u001b[0m \u001b[1;32mif\u001b[0m \u001b[0m__name__\u001b[0m \u001b[1;33m==\u001b[0m \u001b[1;34m'__main__'\u001b[0m\u001b[1;33m:\u001b[0m\u001b[1;33m\u001b[0m\u001b[0m\n\u001b[1;32m----> 6\u001b[1;33m     \u001b[0ms\u001b[0m \u001b[1;33m=\u001b[0m \u001b[0minput\u001b[0m\u001b[1;33m(\u001b[0m\u001b[1;33m)\u001b[0m\u001b[1;33m\u001b[0m\u001b[0m\n\u001b[0m\u001b[0;32m      7\u001b[0m     \u001b[0mresult\u001b[0m \u001b[1;33m=\u001b[0m \u001b[0mswap_case\u001b[0m\u001b[1;33m(\u001b[0m\u001b[0ms\u001b[0m\u001b[1;33m)\u001b[0m\u001b[1;33m\u001b[0m\u001b[0m\n\u001b[0;32m      8\u001b[0m     \u001b[0mprint\u001b[0m\u001b[1;33m(\u001b[0m\u001b[0mresult\u001b[0m\u001b[1;33m)\u001b[0m\u001b[1;33m\u001b[0m\u001b[0m\n",
      "\u001b[1;32mD:\\Python\\Spyder\\lib\\site-packages\\ipykernel\\kernelbase.py\u001b[0m in \u001b[0;36mraw_input\u001b[1;34m(self, prompt)\u001b[0m\n\u001b[0;32m    703\u001b[0m             \u001b[0mself\u001b[0m\u001b[1;33m.\u001b[0m\u001b[0m_parent_ident\u001b[0m\u001b[1;33m,\u001b[0m\u001b[1;33m\u001b[0m\u001b[0m\n\u001b[0;32m    704\u001b[0m             \u001b[0mself\u001b[0m\u001b[1;33m.\u001b[0m\u001b[0m_parent_header\u001b[0m\u001b[1;33m,\u001b[0m\u001b[1;33m\u001b[0m\u001b[0m\n\u001b[1;32m--> 705\u001b[1;33m             \u001b[0mpassword\u001b[0m\u001b[1;33m=\u001b[0m\u001b[1;32mFalse\u001b[0m\u001b[1;33m,\u001b[0m\u001b[1;33m\u001b[0m\u001b[0m\n\u001b[0m\u001b[0;32m    706\u001b[0m         )\n\u001b[0;32m    707\u001b[0m \u001b[1;33m\u001b[0m\u001b[0m\n",
      "\u001b[1;32mD:\\Python\\Spyder\\lib\\site-packages\\ipykernel\\kernelbase.py\u001b[0m in \u001b[0;36m_input_request\u001b[1;34m(self, prompt, ident, parent, password)\u001b[0m\n\u001b[0;32m    733\u001b[0m             \u001b[1;32mexcept\u001b[0m \u001b[0mKeyboardInterrupt\u001b[0m\u001b[1;33m:\u001b[0m\u001b[1;33m\u001b[0m\u001b[0m\n\u001b[0;32m    734\u001b[0m                 \u001b[1;31m# re-raise KeyboardInterrupt, to truncate traceback\u001b[0m\u001b[1;33m\u001b[0m\u001b[1;33m\u001b[0m\u001b[0m\n\u001b[1;32m--> 735\u001b[1;33m                 \u001b[1;32mraise\u001b[0m \u001b[0mKeyboardInterrupt\u001b[0m\u001b[1;33m\u001b[0m\u001b[0m\n\u001b[0m\u001b[0;32m    736\u001b[0m             \u001b[1;32melse\u001b[0m\u001b[1;33m:\u001b[0m\u001b[1;33m\u001b[0m\u001b[0m\n\u001b[0;32m    737\u001b[0m                 \u001b[1;32mbreak\u001b[0m\u001b[1;33m\u001b[0m\u001b[0m\n",
      "\u001b[1;31mKeyboardInterrupt\u001b[0m: "
     ]
    }
   ],
   "source": [
    "def swap_case(s):\n",
    "    a=''.join([i.lower() if i.isupper() else i.upper() for i in s])\n",
    "    return a\n",
    "\n",
    "if __name__ == '__main__':\n",
    "    s = input()\n",
    "    result = swap_case(s)\n",
    "    print(result)"
   ]
  },
  {
   "cell_type": "code",
   "execution_count": 20,
   "metadata": {},
   "outputs": [
    {
     "name": "stdout",
     "output_type": "stream",
     "text": [
      "Original String: Hello Worldllo!\n",
      "Find the index from which the substring 'llo' begins within the test string\n",
      "2\n"
     ]
    }
   ],
   "source": [
    "testString1 = \"Hello Worldllo!\"\n",
    "print (\"Original String: \"+ testString1)\n",
    "print (\"Find the index from which the substring 'llo' begins within the test string\")\n",
    "print (testString1.find('llo'))"
   ]
  },
  {
   "cell_type": "code",
   "execution_count": 23,
   "metadata": {},
   "outputs": [
    {
     "name": "stdout",
     "output_type": "stream",
     "text": [
      "aD5\n",
      "True\n",
      "False\n",
      "False\n",
      "False\n",
      "False\n"
     ]
    }
   ],
   "source": [
    "if __name__ == '__main__':\n",
    "    s = input()\n",
    "    s=s.split()\n",
    "    \n",
    "    countalnum=0\n",
    "    countalpha=0\n",
    "    countdigit=0\n",
    "    countlower=0\n",
    "    countupper=0\n",
    "    for i in range(len(s)):\n",
    "        if s[i].isalnum():\n",
    "            countalnum +=1\n",
    "        if s[i].isalpha():\n",
    "            countalpha +=1\n",
    "        if s[i].isdigit():\n",
    "            countdigit +=1\n",
    "        if s[i].islower():\n",
    "            countlower +=1\n",
    "        if s[i].isupper():\n",
    "            countupper +=1\n",
    "    if countalnum >0:\n",
    "        print(True)\n",
    "    else: print(False)\n",
    "    if countalpha >0:\n",
    "        print(True)\n",
    "    else: print(False)\n",
    "    if countdigit >0:\n",
    "        print(True)\n",
    "    else: print(False)\n",
    "    if countlower >0:\n",
    "        print(True)\n",
    "    else: print(False)\n",
    "    if countupper >0:\n",
    "        print(True)\n",
    "    else: print(False)\n"
   ]
  },
  {
   "cell_type": "code",
   "execution_count": 27,
   "metadata": {},
   "outputs": [
    {
     "name": "stdout",
     "output_type": "stream",
     "text": [
      "dG0\n",
      "True\n",
      "True\n",
      "True\n",
      "True\n",
      "True\n"
     ]
    }
   ],
   "source": [
    "    s = input()\n",
    "    print(any(a.isalnum() for a in s))\n",
    "    print(any(a.isalpha() for a in s))\n",
    "    print(any(a.isdigit() for a in s))\n",
    "    print(any(a.islower() for a in s))\n",
    "    print(any(a.isupper() for a in s))"
   ]
  },
  {
   "cell_type": "code",
   "execution_count": 94,
   "metadata": {},
   "outputs": [
    {
     "data": {
      "text/plain": [
       "'------abcde------'"
      ]
     },
     "execution_count": 94,
     "metadata": {},
     "output_type": "execute_result"
    }
   ],
   "source": [
    "'abcde'.center(17,'-')"
   ]
  },
  {
   "cell_type": "code",
   "execution_count": 1,
   "metadata": {},
   "outputs": [
    {
     "data": {
      "text/plain": [
       "['cbabc']"
      ]
     },
     "execution_count": 1,
     "metadata": {},
     "output_type": "execute_result"
    }
   ],
   "source": [
    "a='abc'\n",
    "b=a[::-1]+a[1:]\n",
    "b.split('-')"
   ]
  },
  {
   "cell_type": "code",
   "execution_count": 6,
   "metadata": {},
   "outputs": [
    {
     "name": "stdout",
     "output_type": "stream",
     "text": [
      "yes\n"
     ]
    }
   ],
   "source": [
    "a=[3]\n",
    "if a:\n",
    "    print('yes')\n",
    "if not a:\n",
    "    print('no')"
   ]
  },
  {
   "cell_type": "code",
   "execution_count": 8,
   "metadata": {},
   "outputs": [
    {
     "data": {
      "text/plain": [
       "[1, 3, 5, 7, 9]"
      ]
     },
     "execution_count": 8,
     "metadata": {},
     "output_type": "execute_result"
    }
   ],
   "source": [
    "def char2num(s):\n",
    "     return {'0': 0, '1': 1, '2': 2, '3': 3, '4': 4, '5': 5, '6': 6, '7': 7, '8': 8, '9': 9}[s]\n",
    "a=map(char2num, '13579')\n",
    "list(a)"
   ]
  },
  {
   "cell_type": "code",
   "execution_count": 38,
   "metadata": {},
   "outputs": [
    {
     "data": {
      "text/plain": [
       "[]"
      ]
     },
     "execution_count": 38,
     "metadata": {},
     "output_type": "execute_result"
    }
   ],
   "source": [
    "def normalize(names):\n",
    "    a=map(str.lower,names)\n",
    "    (list(a))[0].upper()\n",
    "    return list(a)\n",
    "\n",
    "normalize('dgLS')"
   ]
  },
  {
   "cell_type": "code",
   "execution_count": 20,
   "metadata": {},
   "outputs": [
    {
     "data": {
      "text/plain": [
       "'Dkjgh'"
      ]
     },
     "execution_count": 20,
     "metadata": {},
     "output_type": "execute_result"
    }
   ],
   "source": [
    "a=map(str.lower,'DKJGH')\n",
    "b=list(a)\n",
    "\n",
    "# list(a)\n",
    "b[0]=b[0].upper()\n",
    "\"\".join(b)"
   ]
  },
  {
   "cell_type": "code",
   "execution_count": 1,
   "metadata": {},
   "outputs": [
    {
     "name": "stdout",
     "output_type": "stream",
     "text": [
      "['Adam', 'Lisa', 'Bart']\n"
     ]
    }
   ],
   "source": [
    "def normalize(name):\n",
    "    return name.capitalize()\n",
    "L1 = ['adam', 'LISA', 'barT']\n",
    "L2 = list(map(normalize, L1))\n",
    "print(L2)\n"
   ]
  },
  {
   "cell_type": "code",
   "execution_count": 14,
   "metadata": {},
   "outputs": [
    {
     "data": {
      "text/plain": [
       "[0,\n",
       " 1,\n",
       " 2,\n",
       " 3,\n",
       " 4,\n",
       " 5,\n",
       " 6,\n",
       " 7,\n",
       " 8,\n",
       " 9,\n",
       " 11,\n",
       " 22,\n",
       " 33,\n",
       " 44,\n",
       " 55,\n",
       " 66,\n",
       " 77,\n",
       " 88,\n",
       " 99,\n",
       " 101,\n",
       " 111,\n",
       " 121,\n",
       " 131,\n",
       " 141,\n",
       " 151,\n",
       " 161,\n",
       " 171,\n",
       " 181,\n",
       " 191,\n",
       " 202,\n",
       " 212,\n",
       " 222,\n",
       " 232,\n",
       " 242,\n",
       " 252,\n",
       " 262,\n",
       " 272,\n",
       " 282,\n",
       " 292,\n",
       " 303,\n",
       " 313,\n",
       " 323,\n",
       " 333,\n",
       " 343,\n",
       " 353,\n",
       " 363,\n",
       " 373,\n",
       " 383,\n",
       " 393,\n",
       " 404,\n",
       " 414,\n",
       " 424,\n",
       " 434,\n",
       " 444,\n",
       " 454,\n",
       " 464,\n",
       " 474,\n",
       " 484,\n",
       " 494,\n",
       " 505,\n",
       " 515,\n",
       " 525,\n",
       " 535,\n",
       " 545,\n",
       " 555,\n",
       " 565,\n",
       " 575,\n",
       " 585,\n",
       " 595,\n",
       " 606,\n",
       " 616,\n",
       " 626,\n",
       " 636,\n",
       " 646,\n",
       " 656,\n",
       " 666,\n",
       " 676,\n",
       " 686,\n",
       " 696,\n",
       " 707,\n",
       " 717,\n",
       " 727,\n",
       " 737,\n",
       " 747,\n",
       " 757,\n",
       " 767,\n",
       " 777,\n",
       " 787,\n",
       " 797,\n",
       " 808,\n",
       " 818,\n",
       " 828,\n",
       " 838,\n",
       " 848,\n",
       " 858,\n",
       " 868,\n",
       " 878,\n",
       " 888,\n",
       " 898,\n",
       " 909,\n",
       " 919,\n",
       " 929,\n",
       " 939,\n",
       " 949,\n",
       " 959,\n",
       " 969,\n",
       " 979,\n",
       " 989,\n",
       " 999,\n",
       " 1001,\n",
       " 1111,\n",
       " 1221,\n",
       " 1331,\n",
       " 1441,\n",
       " 1551,\n",
       " 1661,\n",
       " 1771,\n",
       " 1881,\n",
       " 1991,\n",
       " 2002,\n",
       " 2112,\n",
       " 2222,\n",
       " 2332,\n",
       " 2442,\n",
       " 2552,\n",
       " 2662,\n",
       " 2772,\n",
       " 2882,\n",
       " 2992,\n",
       " 3003,\n",
       " 3113,\n",
       " 3223,\n",
       " 3333,\n",
       " 3443,\n",
       " 3553,\n",
       " 3663,\n",
       " 3773,\n",
       " 3883,\n",
       " 3993,\n",
       " 4004,\n",
       " 4114,\n",
       " 4224,\n",
       " 4334,\n",
       " 4444,\n",
       " 4554,\n",
       " 4664,\n",
       " 4774,\n",
       " 4884,\n",
       " 4994,\n",
       " 5005,\n",
       " 5115,\n",
       " 5225,\n",
       " 5335,\n",
       " 5445,\n",
       " 5555,\n",
       " 5665,\n",
       " 5775,\n",
       " 5885,\n",
       " 5995,\n",
       " 6006,\n",
       " 6116,\n",
       " 6226,\n",
       " 6336,\n",
       " 6446,\n",
       " 6556,\n",
       " 6666,\n",
       " 6776,\n",
       " 6886,\n",
       " 6996,\n",
       " 7007,\n",
       " 7117,\n",
       " 7227,\n",
       " 7337,\n",
       " 7447,\n",
       " 7557,\n",
       " 7667,\n",
       " 7777,\n",
       " 7887,\n",
       " 7997,\n",
       " 8008,\n",
       " 8118,\n",
       " 8228,\n",
       " 8338,\n",
       " 8448,\n",
       " 8558,\n",
       " 8668,\n",
       " 8778,\n",
       " 8888,\n",
       " 8998,\n",
       " 9009,\n",
       " 9119,\n",
       " 9229,\n",
       " 9339,\n",
       " 9449,\n",
       " 9559,\n",
       " 9669,\n",
       " 9779,\n",
       " 9889,\n",
       " 9999,\n",
       " 10001,\n",
       " 10101,\n",
       " 10201,\n",
       " 10301,\n",
       " 10401,\n",
       " 10501,\n",
       " 10601,\n",
       " 10701,\n",
       " 10801,\n",
       " 10901,\n",
       " 11011,\n",
       " 11111,\n",
       " 11211,\n",
       " 11311,\n",
       " 11411,\n",
       " 11511,\n",
       " 11611,\n",
       " 11711,\n",
       " 11811,\n",
       " 11911,\n",
       " 12021,\n",
       " 12121,\n",
       " 12221,\n",
       " 12321,\n",
       " 12421,\n",
       " 12521,\n",
       " 12621,\n",
       " 12721,\n",
       " 12821,\n",
       " 12921,\n",
       " 13031,\n",
       " 13131,\n",
       " 13231,\n",
       " 13331,\n",
       " 13431,\n",
       " 13531,\n",
       " 13631,\n",
       " 13731,\n",
       " 13831,\n",
       " 13931,\n",
       " 14041,\n",
       " 14141,\n",
       " 14241,\n",
       " 14341,\n",
       " 14441,\n",
       " 14541,\n",
       " 14641,\n",
       " 14741,\n",
       " 14841,\n",
       " 14941,\n",
       " 15051,\n",
       " 15151,\n",
       " 15251,\n",
       " 15351,\n",
       " 15451,\n",
       " 15551,\n",
       " 15651,\n",
       " 15751,\n",
       " 15851,\n",
       " 15951,\n",
       " 16061,\n",
       " 16161,\n",
       " 16261,\n",
       " 16361,\n",
       " 16461,\n",
       " 16561,\n",
       " 16661,\n",
       " 16761,\n",
       " 16861,\n",
       " 16961,\n",
       " 17071,\n",
       " 17171,\n",
       " 17271,\n",
       " 17371,\n",
       " 17471,\n",
       " 17571,\n",
       " 17671,\n",
       " 17771,\n",
       " 17871,\n",
       " 17971,\n",
       " 18081,\n",
       " 18181,\n",
       " 18281,\n",
       " 18381,\n",
       " 18481,\n",
       " 18581,\n",
       " 18681,\n",
       " 18781,\n",
       " 18881,\n",
       " 18981,\n",
       " 19091,\n",
       " 19191,\n",
       " 19291,\n",
       " 19391,\n",
       " 19491,\n",
       " 19591,\n",
       " 19691,\n",
       " 19791,\n",
       " 19891,\n",
       " 19991,\n",
       " 20002,\n",
       " 20102,\n",
       " 20202,\n",
       " 20302,\n",
       " 20402,\n",
       " 20502,\n",
       " 20602,\n",
       " 20702,\n",
       " 20802,\n",
       " 20902,\n",
       " 21012,\n",
       " 21112,\n",
       " 21212,\n",
       " 21312,\n",
       " 21412,\n",
       " 21512,\n",
       " 21612,\n",
       " 21712,\n",
       " 21812,\n",
       " 21912,\n",
       " 22022,\n",
       " 22122,\n",
       " 22222,\n",
       " 22322,\n",
       " 22422,\n",
       " 22522,\n",
       " 22622,\n",
       " 22722,\n",
       " 22822,\n",
       " 22922,\n",
       " 23032,\n",
       " 23132,\n",
       " 23232,\n",
       " 23332,\n",
       " 23432,\n",
       " 23532,\n",
       " 23632,\n",
       " 23732,\n",
       " 23832,\n",
       " 23932,\n",
       " 24042,\n",
       " 24142,\n",
       " 24242,\n",
       " 24342,\n",
       " 24442,\n",
       " 24542,\n",
       " 24642,\n",
       " 24742,\n",
       " 24842,\n",
       " 24942,\n",
       " 25052,\n",
       " 25152,\n",
       " 25252,\n",
       " 25352,\n",
       " 25452,\n",
       " 25552,\n",
       " 25652,\n",
       " 25752,\n",
       " 25852,\n",
       " 25952,\n",
       " 26062,\n",
       " 26162,\n",
       " 26262,\n",
       " 26362,\n",
       " 26462,\n",
       " 26562,\n",
       " 26662,\n",
       " 26762,\n",
       " 26862,\n",
       " 26962,\n",
       " 27072,\n",
       " 27172,\n",
       " 27272,\n",
       " 27372,\n",
       " 27472,\n",
       " 27572,\n",
       " 27672,\n",
       " 27772,\n",
       " 27872,\n",
       " 27972,\n",
       " 28082,\n",
       " 28182,\n",
       " 28282,\n",
       " 28382,\n",
       " 28482,\n",
       " 28582,\n",
       " 28682,\n",
       " 28782,\n",
       " 28882,\n",
       " 28982,\n",
       " 29092,\n",
       " 29192,\n",
       " 29292,\n",
       " 29392,\n",
       " 29492,\n",
       " 29592,\n",
       " 29692,\n",
       " 29792,\n",
       " 29892,\n",
       " 29992,\n",
       " 30003,\n",
       " 30103,\n",
       " 30203,\n",
       " 30303,\n",
       " 30403,\n",
       " 30503,\n",
       " 30603,\n",
       " 30703,\n",
       " 30803,\n",
       " 30903,\n",
       " 31013,\n",
       " 31113,\n",
       " 31213,\n",
       " 31313,\n",
       " 31413,\n",
       " 31513,\n",
       " 31613,\n",
       " 31713,\n",
       " 31813,\n",
       " 31913,\n",
       " 32023,\n",
       " 32123,\n",
       " 32223,\n",
       " 32323,\n",
       " 32423,\n",
       " 32523,\n",
       " 32623,\n",
       " 32723,\n",
       " 32823,\n",
       " 32923,\n",
       " 33033,\n",
       " 33133,\n",
       " 33233,\n",
       " 33333,\n",
       " 33433,\n",
       " 33533,\n",
       " 33633,\n",
       " 33733,\n",
       " 33833,\n",
       " 33933,\n",
       " 34043,\n",
       " 34143,\n",
       " 34243,\n",
       " 34343,\n",
       " 34443,\n",
       " 34543,\n",
       " 34643,\n",
       " 34743,\n",
       " 34843,\n",
       " 34943,\n",
       " 35053,\n",
       " 35153,\n",
       " 35253,\n",
       " 35353,\n",
       " 35453,\n",
       " 35553,\n",
       " 35653,\n",
       " 35753,\n",
       " 35853,\n",
       " 35953,\n",
       " 36063,\n",
       " 36163,\n",
       " 36263,\n",
       " 36363,\n",
       " 36463,\n",
       " 36563,\n",
       " 36663,\n",
       " 36763,\n",
       " 36863,\n",
       " 36963,\n",
       " 37073,\n",
       " 37173,\n",
       " 37273,\n",
       " 37373,\n",
       " 37473,\n",
       " 37573,\n",
       " 37673,\n",
       " 37773,\n",
       " 37873,\n",
       " 37973,\n",
       " 38083,\n",
       " 38183,\n",
       " 38283,\n",
       " 38383,\n",
       " 38483,\n",
       " 38583,\n",
       " 38683,\n",
       " 38783,\n",
       " 38883,\n",
       " 38983,\n",
       " 39093,\n",
       " 39193,\n",
       " 39293,\n",
       " 39393,\n",
       " 39493,\n",
       " 39593,\n",
       " 39693,\n",
       " 39793,\n",
       " 39893,\n",
       " 39993,\n",
       " 40004,\n",
       " 40104,\n",
       " 40204,\n",
       " 40304,\n",
       " 40404,\n",
       " 40504,\n",
       " 40604,\n",
       " 40704,\n",
       " 40804,\n",
       " 40904,\n",
       " 41014,\n",
       " 41114,\n",
       " 41214,\n",
       " 41314,\n",
       " 41414,\n",
       " 41514,\n",
       " 41614,\n",
       " 41714,\n",
       " 41814,\n",
       " 41914,\n",
       " 42024,\n",
       " 42124,\n",
       " 42224,\n",
       " 42324,\n",
       " 42424,\n",
       " 42524,\n",
       " 42624,\n",
       " 42724,\n",
       " 42824,\n",
       " 42924,\n",
       " 43034,\n",
       " 43134,\n",
       " 43234,\n",
       " 43334,\n",
       " 43434,\n",
       " 43534,\n",
       " 43634,\n",
       " 43734,\n",
       " 43834,\n",
       " 43934,\n",
       " 44044,\n",
       " 44144,\n",
       " 44244,\n",
       " 44344,\n",
       " 44444,\n",
       " 44544,\n",
       " 44644,\n",
       " 44744,\n",
       " 44844,\n",
       " 44944,\n",
       " 45054,\n",
       " 45154,\n",
       " 45254,\n",
       " 45354,\n",
       " 45454,\n",
       " 45554,\n",
       " 45654,\n",
       " 45754,\n",
       " 45854,\n",
       " 45954,\n",
       " 46064,\n",
       " 46164,\n",
       " 46264,\n",
       " 46364,\n",
       " 46464,\n",
       " 46564,\n",
       " 46664,\n",
       " 46764,\n",
       " 46864,\n",
       " 46964,\n",
       " 47074,\n",
       " 47174,\n",
       " 47274,\n",
       " 47374,\n",
       " 47474,\n",
       " 47574,\n",
       " 47674,\n",
       " 47774,\n",
       " 47874,\n",
       " 47974,\n",
       " 48084,\n",
       " 48184,\n",
       " 48284,\n",
       " 48384,\n",
       " 48484,\n",
       " 48584,\n",
       " 48684,\n",
       " 48784,\n",
       " 48884,\n",
       " 48984,\n",
       " 49094,\n",
       " 49194,\n",
       " 49294,\n",
       " 49394,\n",
       " 49494,\n",
       " 49594,\n",
       " 49694,\n",
       " 49794,\n",
       " 49894,\n",
       " 49994,\n",
       " 50005,\n",
       " 50105,\n",
       " 50205,\n",
       " 50305,\n",
       " 50405,\n",
       " 50505,\n",
       " 50605,\n",
       " 50705,\n",
       " 50805,\n",
       " 50905,\n",
       " 51015,\n",
       " 51115,\n",
       " 51215,\n",
       " 51315,\n",
       " 51415,\n",
       " 51515,\n",
       " 51615,\n",
       " 51715,\n",
       " 51815,\n",
       " 51915,\n",
       " 52025,\n",
       " 52125,\n",
       " 52225,\n",
       " 52325,\n",
       " 52425,\n",
       " 52525,\n",
       " 52625,\n",
       " 52725,\n",
       " 52825,\n",
       " 52925,\n",
       " 53035,\n",
       " 53135,\n",
       " 53235,\n",
       " 53335,\n",
       " 53435,\n",
       " 53535,\n",
       " 53635,\n",
       " 53735,\n",
       " 53835,\n",
       " 53935,\n",
       " 54045,\n",
       " 54145,\n",
       " 54245,\n",
       " 54345,\n",
       " 54445,\n",
       " 54545,\n",
       " 54645,\n",
       " 54745,\n",
       " 54845,\n",
       " 54945,\n",
       " 55055,\n",
       " 55155,\n",
       " 55255,\n",
       " 55355,\n",
       " 55455,\n",
       " 55555,\n",
       " 55655,\n",
       " 55755,\n",
       " 55855,\n",
       " 55955,\n",
       " 56065,\n",
       " 56165,\n",
       " 56265,\n",
       " 56365,\n",
       " 56465,\n",
       " 56565,\n",
       " 56665,\n",
       " 56765,\n",
       " 56865,\n",
       " 56965,\n",
       " 57075,\n",
       " 57175,\n",
       " 57275,\n",
       " 57375,\n",
       " 57475,\n",
       " 57575,\n",
       " 57675,\n",
       " 57775,\n",
       " 57875,\n",
       " 57975,\n",
       " 58085,\n",
       " 58185,\n",
       " 58285,\n",
       " 58385,\n",
       " 58485,\n",
       " 58585,\n",
       " 58685,\n",
       " 58785,\n",
       " 58885,\n",
       " 58985,\n",
       " 59095,\n",
       " 59195,\n",
       " 59295,\n",
       " 59395,\n",
       " 59495,\n",
       " 59595,\n",
       " 59695,\n",
       " 59795,\n",
       " 59895,\n",
       " 59995,\n",
       " 60006,\n",
       " 60106,\n",
       " 60206,\n",
       " 60306,\n",
       " 60406,\n",
       " 60506,\n",
       " 60606,\n",
       " 60706,\n",
       " 60806,\n",
       " 60906,\n",
       " 61016,\n",
       " 61116,\n",
       " 61216,\n",
       " 61316,\n",
       " 61416,\n",
       " 61516,\n",
       " 61616,\n",
       " 61716,\n",
       " 61816,\n",
       " 61916,\n",
       " 62026,\n",
       " 62126,\n",
       " 62226,\n",
       " 62326,\n",
       " 62426,\n",
       " 62526,\n",
       " 62626,\n",
       " 62726,\n",
       " 62826,\n",
       " 62926,\n",
       " 63036,\n",
       " 63136,\n",
       " 63236,\n",
       " 63336,\n",
       " 63436,\n",
       " 63536,\n",
       " 63636,\n",
       " 63736,\n",
       " 63836,\n",
       " 63936,\n",
       " 64046,\n",
       " 64146,\n",
       " 64246,\n",
       " 64346,\n",
       " 64446,\n",
       " 64546,\n",
       " 64646,\n",
       " 64746,\n",
       " 64846,\n",
       " 64946,\n",
       " 65056,\n",
       " 65156,\n",
       " 65256,\n",
       " 65356,\n",
       " 65456,\n",
       " 65556,\n",
       " 65656,\n",
       " 65756,\n",
       " 65856,\n",
       " 65956,\n",
       " 66066,\n",
       " 66166,\n",
       " 66266,\n",
       " 66366,\n",
       " 66466,\n",
       " 66566,\n",
       " 66666,\n",
       " 66766,\n",
       " 66866,\n",
       " 66966,\n",
       " 67076,\n",
       " 67176,\n",
       " 67276,\n",
       " 67376,\n",
       " 67476,\n",
       " 67576,\n",
       " 67676,\n",
       " 67776,\n",
       " 67876,\n",
       " 67976,\n",
       " 68086,\n",
       " 68186,\n",
       " 68286,\n",
       " 68386,\n",
       " 68486,\n",
       " 68586,\n",
       " 68686,\n",
       " 68786,\n",
       " 68886,\n",
       " 68986,\n",
       " 69096,\n",
       " 69196,\n",
       " 69296,\n",
       " 69396,\n",
       " 69496,\n",
       " 69596,\n",
       " 69696,\n",
       " 69796,\n",
       " 69896,\n",
       " 69996,\n",
       " 70007,\n",
       " 70107,\n",
       " 70207,\n",
       " 70307,\n",
       " 70407,\n",
       " 70507,\n",
       " 70607,\n",
       " 70707,\n",
       " 70807,\n",
       " 70907,\n",
       " 71017,\n",
       " 71117,\n",
       " 71217,\n",
       " 71317,\n",
       " 71417,\n",
       " 71517,\n",
       " 71617,\n",
       " 71717,\n",
       " 71817,\n",
       " 71917,\n",
       " 72027,\n",
       " 72127,\n",
       " 72227,\n",
       " 72327,\n",
       " 72427,\n",
       " 72527,\n",
       " 72627,\n",
       " 72727,\n",
       " 72827,\n",
       " 72927,\n",
       " 73037,\n",
       " 73137,\n",
       " 73237,\n",
       " 73337,\n",
       " 73437,\n",
       " 73537,\n",
       " 73637,\n",
       " 73737,\n",
       " 73837,\n",
       " 73937,\n",
       " 74047,\n",
       " 74147,\n",
       " 74247,\n",
       " 74347,\n",
       " 74447,\n",
       " 74547,\n",
       " 74647,\n",
       " 74747,\n",
       " 74847,\n",
       " 74947,\n",
       " 75057,\n",
       " 75157,\n",
       " 75257,\n",
       " 75357,\n",
       " 75457,\n",
       " 75557,\n",
       " 75657,\n",
       " 75757,\n",
       " 75857,\n",
       " 75957,\n",
       " 76067,\n",
       " 76167,\n",
       " 76267,\n",
       " 76367,\n",
       " 76467,\n",
       " 76567,\n",
       " 76667,\n",
       " 76767,\n",
       " 76867,\n",
       " 76967,\n",
       " 77077,\n",
       " 77177,\n",
       " 77277,\n",
       " 77377,\n",
       " 77477,\n",
       " 77577,\n",
       " 77677,\n",
       " 77777,\n",
       " 77877,\n",
       " 77977,\n",
       " 78087,\n",
       " 78187,\n",
       " 78287,\n",
       " 78387,\n",
       " 78487,\n",
       " 78587,\n",
       " 78687,\n",
       " 78787,\n",
       " 78887,\n",
       " 78987,\n",
       " 79097,\n",
       " 79197,\n",
       " 79297,\n",
       " 79397,\n",
       " 79497,\n",
       " 79597,\n",
       " 79697,\n",
       " 79797,\n",
       " 79897,\n",
       " 79997,\n",
       " 80008,\n",
       " 80108,\n",
       " 80208,\n",
       " 80308,\n",
       " 80408,\n",
       " 80508,\n",
       " 80608,\n",
       " 80708,\n",
       " 80808,\n",
       " 80908,\n",
       " 81018,\n",
       " 81118,\n",
       " 81218,\n",
       " 81318,\n",
       " 81418,\n",
       " 81518,\n",
       " 81618,\n",
       " 81718,\n",
       " 81818,\n",
       " 81918,\n",
       " 82028,\n",
       " 82128,\n",
       " 82228,\n",
       " 82328,\n",
       " 82428,\n",
       " 82528,\n",
       " 82628,\n",
       " 82728,\n",
       " 82828,\n",
       " 82928,\n",
       " 83038,\n",
       " 83138,\n",
       " 83238,\n",
       " 83338,\n",
       " 83438,\n",
       " 83538,\n",
       " 83638,\n",
       " 83738,\n",
       " 83838,\n",
       " 83938,\n",
       " 84048,\n",
       " 84148,\n",
       " 84248,\n",
       " 84348,\n",
       " 84448,\n",
       " 84548,\n",
       " 84648,\n",
       " 84748,\n",
       " 84848,\n",
       " 84948,\n",
       " 85058,\n",
       " 85158,\n",
       " 85258,\n",
       " 85358,\n",
       " 85458,\n",
       " 85558,\n",
       " 85658,\n",
       " 85758,\n",
       " 85858,\n",
       " 85958,\n",
       " 86068,\n",
       " 86168,\n",
       " 86268,\n",
       " 86368,\n",
       " 86468,\n",
       " 86568,\n",
       " 86668,\n",
       " 86768,\n",
       " 86868,\n",
       " 86968,\n",
       " 87078,\n",
       " 87178,\n",
       " 87278,\n",
       " 87378,\n",
       " 87478,\n",
       " 87578,\n",
       " 87678,\n",
       " 87778,\n",
       " 87878,\n",
       " 87978,\n",
       " 88088,\n",
       " 88188,\n",
       " 88288,\n",
       " 88388,\n",
       " 88488,\n",
       " 88588,\n",
       " 88688,\n",
       " 88788,\n",
       " 88888,\n",
       " 88988,\n",
       " 89098,\n",
       " 89198,\n",
       " 89298,\n",
       " 89398,\n",
       " 89498,\n",
       " 89598,\n",
       " 89698,\n",
       " 89798,\n",
       " 89898,\n",
       " 89998,\n",
       " 90009,\n",
       " ...]"
      ]
     },
     "execution_count": 14,
     "metadata": {},
     "output_type": "execute_result"
    }
   ],
   "source": [
    "def is_palindrome(n):\n",
    "    return n == int(str(n)[::-1])\n",
    "   \n",
    "\n",
    "palindrome=filter(is_palindrome, range(100000))\n",
    "list(palindrome)\n",
    "        \n",
    "    "
   ]
  },
  {
   "cell_type": "code",
   "execution_count": 19,
   "metadata": {},
   "outputs": [
    {
     "name": "stdout",
     "output_type": "stream",
     "text": [
      "[('Adam', 92), ('Bart', 66), ('Bob', 75), ('Lisa', 88)]\n",
      "[('Bart', 66), ('Bob', 75), ('Lisa', 88), ('Adam', 92)]\n"
     ]
    }
   ],
   "source": [
    "def by_name(l):\n",
    "    return l[0]\n",
    "\n",
    "def by_score(l):\n",
    "    return l[1]\n",
    "\n",
    "L1 = [('Bob', 75), ('Adam', 92), ('Bart', 66), ('Lisa', 88)]\n",
    "L2 = sorted(L1,key=by_name)\n",
    "print(L2)\n",
    "L3 = sorted(L1,key=by_score)\n",
    "print(L3)"
   ]
  },
  {
   "cell_type": "code",
   "execution_count": 20,
   "metadata": {},
   "outputs": [
    {
     "data": {
      "text/plain": [
       "2"
      ]
     },
     "execution_count": 20,
     "metadata": {},
     "output_type": "execute_result"
    }
   ],
   "source": [
    "int('10',base=2)"
   ]
  }
 ],
 "metadata": {
  "kernelspec": {
   "display_name": "Python 3",
   "language": "python",
   "name": "python3"
  },
  "language_info": {
   "codemirror_mode": {
    "name": "ipython",
    "version": 3
   },
   "file_extension": ".py",
   "mimetype": "text/x-python",
   "name": "python",
   "nbconvert_exporter": "python",
   "pygments_lexer": "ipython3",
   "version": "3.6.1"
  }
 },
 "nbformat": 4,
 "nbformat_minor": 2
}
