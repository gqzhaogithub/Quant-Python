{
 "cells": [
  {
   "cell_type": "markdown",
   "metadata": {},
   "source": [
    "## Simulate Amazon stock prices\n",
    "\n",
    "Using historical data from Yahoo for 2014-10-01 to 2016-09-30, we computed historical returns in a Google sheet, and now we will do a Monte Carlo simulation using the standard deviation of returns. "
   ]
  },
  {
   "cell_type": "code",
   "execution_count": 13,
   "metadata": {},
   "outputs": [
    {
     "name": "stdout",
     "output_type": "stream",
     "text": [
      "Populating the interactive namespace from numpy and matplotlib\n",
      "VaR=2719.60331454\n",
      "ES=3386.05309704\n"
     ]
    }
   ],
   "source": [
    "%pylab inline\n",
    "import numpy as np\n",
    "import matplotlib.pyplot as plt\n",
    "current_price=837.31\n",
    "sigma_one_day=0.02\n",
    "\n",
    "# for Monte Carlo, we randomly generate log returns, apply to the\n",
    "# current price to find simulated future prices.\n",
    "num_trials=100000\n",
    "mean_daily_return=0\n",
    "simulated_log_return =np.random.normal(mean_daily_return,sigma_one_day,num_trials)\n",
    "simulated_prices=[current_price*np.exp(ret)for ret in simulated_log_return]\n",
    "\n",
    "\n",
    "num_shares_AMZN =100\n",
    "profit_and_loss = [num_shares_AMZN* (price-current_price) for price in simulated_prices]\n",
    "\n",
    "var_quantile = 0.05\n",
    "VaR=-sorted(profit_and_loss)[int(var_quantile * num_trials)]\n",
    "print('VaR='+ str(VaR))\n",
    "\n",
    "VaR_excessions= [loss for loss in profit_and_loss if loss < -VaR]\n",
    "ES=-np.mean(VaR_excessions)\n",
    "\n",
    "print('ES='+str(ES))\n",
    "\n",
    "# num_bins=50\n",
    "# price_sigma=np.std(simulated_prices)\n",
    "# plt.hist(profit_and_loss, bins=num_bins, normed=True, align='left', rwidth=0.3, \n",
    "#          range=(min(profit_and_loss),max(profit_and_loss))"
   ]
  }
 ],
 "metadata": {
  "kernelspec": {
   "display_name": "Python 3",
   "language": "python",
   "name": "python3"
  },
  "language_info": {
   "codemirror_mode": {
    "name": "ipython",
    "version": 3
   },
   "file_extension": ".py",
   "mimetype": "text/x-python",
   "name": "python",
   "nbconvert_exporter": "python",
   "pygments_lexer": "ipython3",
   "version": "3.6.1"
  }
 },
 "nbformat": 4,
 "nbformat_minor": 2
}
